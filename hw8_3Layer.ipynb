{
 "cells": [
  {
   "cell_type": "code",
   "execution_count": null,
   "id": "cfbfda6a",
   "metadata": {},
   "outputs": [
    {
     "ename": "",
     "evalue": "",
     "output_type": "error",
     "traceback": [
      "\u001b[1;31mRunning cells with 'base (Python 3.11.9)' requires the ipykernel package.\n",
      "\u001b[1;31m<a href='command:jupyter.createPythonEnvAndSelectController'>Create a Python Environment</a> with the required packages.\n",
      "\u001b[1;31mOr install 'ipykernel' using the command: 'conda install -n base ipykernel --update-deps --force-reinstall'"
     ]
    }
   ],
   "source": [
    "#import functions\n",
    "import numpy as np\n",
    "import pandas as pd"
   ]
  },
  {
   "cell_type": "code",
   "execution_count": null,
   "id": "413fce09",
   "metadata": {},
   "outputs": [],
   "source": [
    "data = pd.read_csv('train.csv')\n",
    "data = np.array(data)\n",
    "m, n = data.shape\n",
    "np.random.shuffle(data) # shuffle before splitting into devv and training sets\n",
    "\n",
    "data_dev = data[0:1000].T\n",
    "Y_dev = data_dev[0] #split into labels and images\n",
    "X_dev = data_dev[1:n] \n",
    "X_dev = X_dev / 255. #normalize image\n",
    "\n",
    "data_train = data[1000:m].T #transpose so its a 1x748 array and not a 748x1\n",
    "Y_train = data_train[0] #split into labels and images\n",
    "X_train = data_train[1:n] \n",
    "X_train = X_train / 255. #normalize image\n",
    "_,m_train = X_train.shape #save amount of images to be used\n"
   ]
  },
  {
   "cell_type": "code",
   "execution_count": null,
   "id": "e0a56d5b",
   "metadata": {},
   "outputs": [],
   "source": [
    "def init_params(): #generates random paramaters for the weights and Biases to start\n",
    "    W1 = np.random.rand(10, 784) - 0.5\n",
    "    b1 = np.random.rand(10, 1) - 0.5\n",
    "    W2 = np.random.rand(10, 10) - 0.5\n",
    "    b2 = np.random.rand(10, 1) - 0.5\n",
    "    W3 = np.random.rand(10, 10) - 0.5\n",
    "    b3 = np.random.rand(10, 1) - 0.5\n",
    "\n",
    "    return W1, b1, W2, b2, W3, b3\n",
    "\n",
    "def ReLU(Z): #returns Z if its greater then zero or just returns zero\n",
    "    return np.maximum(Z, 0)\n",
    "\n",
    "def softmax(Z): #changes the numbers given by the neural networks into there probabilities\n",
    "    A = np.exp(Z) / sum(np.exp(Z))\n",
    "    return A\n",
    "    \n",
    "def forward_prop(W1, b1, W2, b2, W3, b3, X): #use the weights and biases and input of the image [1x728] array to find the output in terms of probability\n",
    "    Z1 = W1.dot(X) + b1\n",
    "    A1 = ReLU(Z1)\n",
    "    Z2 = W2.dot(A1) + b2\n",
    "    A2 = ReLU(Z2)\n",
    "    Z3 = W3.dot(A2) + b3\n",
    "    A3 = softmax(Z3)\n",
    "    return Z1, A1, Z2, A2, Z3, A3\n",
    "\n",
    "def ReLU_deriv(Z): #the derivitive of the ReLU function\n",
    "    return Z > 0\n",
    "\n",
    "def one_hot(Y): #changes the number of the answer into an array that can be used for finding the gradients\n",
    "    one_hot_Y = np.zeros((Y.size, Y.max() + 1))\n",
    "    one_hot_Y[np.arange(Y.size), Y] = 1\n",
    "    one_hot_Y = one_hot_Y.T\n",
    "    return one_hot_Y\n",
    "\n",
    "def backward_prop(Z1, A1, Z2, A2, Z3, A3, W1, W2, W3, X, Y): #finds the gradients and loss for each weight bias or input using the formulas\n",
    "    one_hot_Y = one_hot(Y)\n",
    "    dZ3 = A3 - one_hot_Y\n",
    "    dW3 = 1 / m * dZ3.dot(A2.T) \n",
    "    db3 = 1 / m * np.sum(dZ3)\n",
    "    dZ2 = W3.T.dot(dZ3) * ReLU_deriv(Z2)\n",
    "    dW2 = 1 / m * dZ2.dot(A1.T)\n",
    "    db2 = 1 / m * np.sum(dZ2)\n",
    "    dZ1 = W2.T.dot(dZ2) * ReLU_deriv(Z1)\n",
    "    dW1 = 1 / m * dZ1.dot(X.T)\n",
    "    db1 = 1 / m * np.sum(dZ1)\n",
    "    return dW1, db1, dW2, db2, dW3, db3\n",
    "\n",
    "def update_params(W1, b1, W2, b2, W3, b3, dW1, db1, dW2, db2, dW3, db3, lr): #updates the weights and biases using the learning rate and gradients\n",
    "    W1 = W1 - lr * dW1\n",
    "    b1 = b1 - lr * db1    \n",
    "    W2 = W2 - lr * dW2  \n",
    "    b2 = b2 - lr * db2    \n",
    "    W3 = W3 - lr * dW3\n",
    "    b3 = b3 - lr * db3\n",
    "    return W1, b1, W2, b2, W3, b3"
   ]
  },
  {
   "cell_type": "code",
   "execution_count": null,
   "id": "00eaea30",
   "metadata": {},
   "outputs": [],
   "source": [
    "def get_predictions(A2):\n",
    "    return np.argmax(A2, 0) #returns the predection but scaled to 1 or 0\n",
    "\n",
    "def get_accuracy(predictions, Y):\n",
    "    print(predictions, Y) #gets the accuracy from the neural network output\n",
    "    return np.sum(predictions == Y) / Y.size\n",
    "\n",
    "def gradient_descent(X, Y, lr, epochs): #trains the model\n",
    "    W1, b1, W2, b2, W3, b3 = init_params() #initializes paramaters\n",
    "    for i in range(epochs): #runs for the amount of epochs\n",
    "        Z1, A1, Z2, A2, Z3, A3 = forward_prop(W1, b1, W2, b2, W3, b3, X)  #does the forward propagation and gets back the values of each level before and after activation function\n",
    "        dW1, db1, dW2, db2, dW3, db3 = backward_prop(Z1, A1, Z2, A2, Z3, A3, W1, W2, W3, X, Y) # uses the values of each level to find out the gradient and derivitive of the weights and biases\n",
    "        W1, b1, W2, b2, W3, b3 = update_params(W1, b1, W2, b2, W3, b3, dW1, db1, dW2, db2, dW3, db3, lr) # changes the weights and biases using the derivitives\n",
    "        if i % 10 == 0:\n",
    "            print(\"Epoch: \", i) #prints the current epoch and its predictions/accuracy\n",
    "            predictions = get_predictions(A3)\n",
    "            print(get_accuracy(predictions, Y))\n",
    "    print(\"Epoch: \", epochs)\n",
    "    predictions = get_predictions(A3)\n",
    "    print(get_accuracy(predictions, Y))\n",
    "    return W1, b1, W2, b2, W3, b3"
   ]
  },
  {
   "cell_type": "code",
   "execution_count": null,
   "id": "eca3f7fb",
   "metadata": {},
   "outputs": [],
   "source": [
    "W1, b1, W2, b2, W3, b3 = gradient_descent(X_train, Y_train, 0.1, 100) #train the model for 100 epochs at a learning rate of 0.1"
   ]
  }
 ],
 "metadata": {
  "kernelspec": {
   "display_name": "base",
   "language": "python",
   "name": "python3"
  },
  "language_info": {
   "codemirror_mode": {
    "name": "ipython",
    "version": 3
   },
   "file_extension": ".py",
   "mimetype": "text/x-python",
   "name": "python",
   "nbconvert_exporter": "python",
   "pygments_lexer": "ipython3",
   "version": "3.11.9"
  }
 },
 "nbformat": 4,
 "nbformat_minor": 5
}
